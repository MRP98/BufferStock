{
 "cells": [
  {
   "attachments": {},
   "cell_type": "markdown",
   "metadata": {},
   "source": [
    "# **Results**"
   ]
  },
  {
   "attachments": {},
   "cell_type": "markdown",
   "metadata": {},
   "source": [
    "### Basic setup:"
   ]
  },
  {
   "cell_type": "code",
   "execution_count": 112,
   "metadata": {},
   "outputs": [
    {
     "name": "stdout",
     "output_type": "stream",
     "text": [
      "The autoreload extension is already loaded. To reload it, use:\n",
      "  %reload_ext autoreload\n"
     ]
    }
   ],
   "source": [
    "# magics\n",
    "%load_ext autoreload\n",
    "%autoreload 2\n",
    "\n",
    "# load general packages\n",
    "import numpy as np\n",
    "import matplotlib.pyplot as plt\n",
    "plt.style.use('seaborn-whitegrid')\n",
    "\n",
    "# load modules\n",
    "from model_credit import model_bufferstock"
   ]
  },
  {
   "attachments": {},
   "cell_type": "markdown",
   "metadata": {},
   "source": [
    "### 1. Run model for different values of $\\lambda$:"
   ]
  },
  {
   "cell_type": "code",
   "execution_count": 198,
   "metadata": {},
   "outputs": [],
   "source": [
    "model = model_bufferstock()"
   ]
  },
  {
   "cell_type": "code",
   "execution_count": 199,
   "metadata": {},
   "outputs": [],
   "source": [
    "model.setup()"
   ]
  },
  {
   "cell_type": "code",
   "execution_count": 200,
   "metadata": {},
   "outputs": [],
   "source": [
    "model.create_grids()"
   ]
  },
  {
   "cell_type": "code",
   "execution_count": 204,
   "metadata": {},
   "outputs": [],
   "source": [
    "sol = model.solve()"
   ]
  },
  {
   "cell_type": "code",
   "execution_count": 210,
   "metadata": {},
   "outputs": [
    {
     "data": {
      "text/plain": [
       "[<matplotlib.lines.Line2D at 0x2048fcbd190>]"
      ]
     },
     "execution_count": 210,
     "metadata": {},
     "output_type": "execute_result"
    },
    {
     "data": {
      "image/png": "[encoded data removed]",
      "text/plain": [
       "<Figure size 432x288 with 1 Axes>"
      ]
     },
     "metadata": {},
     "output_type": "display_data"
    }
   ],
   "source": [
    "plt.plot(sol.grid_w[158,:],sol.c[158,:], label='Uniform distribution, $\\epsilon$',)"
   ]
  },
  {
   "cell_type": "code",
   "execution_count": 206,
   "metadata": {},
   "outputs": [
    {
     "data": {
      "text/plain": [
       "[<matplotlib.lines.Line2D at 0x2048eb54490>]"
      ]
     },
     "execution_count": 206,
     "metadata": {},
     "output_type": "execute_result"
    },
    {
     "data": {
      "image/png": "[encoded data removed]",
      "text/plain": [
       "<Figure size 432x288 with 1 Axes>"
      ]
     },
     "metadata": {},
     "output_type": "display_data"
    }
   ],
   "source": [
    "plt.plot(sol.grid_w[158,:],sol.d[158,:], label='Uniform distribution, $\\epsilon$',)"
   ]
  },
  {
   "attachments": {},
   "cell_type": "markdown",
   "metadata": {},
   "source": [
    "Testing stuff"
   ]
  },
  {
   "cell_type": "code",
   "execution_count": null,
   "metadata": {},
   "outputs": [],
   "source": [
    "import tools\n",
    "\n",
    "sigma_xi = 0.1 # Transitory shock\n",
    "sigma_psi = 0.1 # Permanent shock\n",
    "\n",
    "# Discrete income shocks\n",
    "low_p = 0.005 # Probability of very low shock (Called pi in slides)\n",
    "low_val = 0.2 # Value of very small shock (Called mu in slides)\n",
    "\n",
    "Neps = 8 # number of quadrature points for eps\n",
    "Npsi = 8 # number of quadrature points for psi\n",
    "\n",
    "eps,eps_w = tools.GaussHermite_lognorm(sigma_xi,Neps)\n",
    "\n",
    "psi,psi_w = tools.GaussHermite_lognorm(sigma_psi,Npsi)\n",
    "\n",
    "if low_p > 0:\n",
    "    xi =  np.append(low_val+1e-8, (eps-low_p*low_val)/(1-low_p), axis=None) # +1e-8 makes it possible to take the log in simulation if low_val = 0\n",
    "    xi_w = np.append(low_p, (1-low_p)*eps_w, axis=None)\n",
    "    \n",
    "\n",
    "else: # If no discrete shock then xi=eps\n",
    "    par.xi = eps\n",
    "    par.xi_w = eps_w\n",
    "\n",
    "\n",
    "\n",
    "\n",
    "xi_vec = np.tile(xi,psi.size)       # Repeat entire array x times\n",
    "psi_vec = np.repeat(psi,xi.size)    # Repeat each element of the array x times\n",
    "xi_w_vec = np.tile(xi_w,psi.size)\n",
    "psi_w_vec = np.repeat(psi_w,xi.size)\n",
    "\n",
    "w = xi_w_vec * psi_w_vec\n",
    "assert (1-sum(w) < 1e-8), 'the weights does not sum to 1'\n",
    "Nshocks = w.size    # count number of shock nodes"
   ]
  }
 ],
 "metadata": {
  "kernelspec": {
   "display_name": "base",
   "language": "python",
   "name": "python3"
  },
  "language_info": {
   "codemirror_mode": {
    "name": "ipython",
    "version": 3
   },
   "file_extension": ".py",
   "mimetype": "text/x-python",
   "name": "python",
   "nbconvert_exporter": "python",
   "pygments_lexer": "ipython3",
   "version": "3.8.5"
  },
  "orig_nbformat": 4
 },
 "nbformat": 4,
 "nbformat_minor": 2
}
